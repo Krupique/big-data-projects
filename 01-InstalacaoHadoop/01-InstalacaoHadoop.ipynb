{
 "cells": [
  {
   "cell_type": "markdown",
   "metadata": {},
   "source": [
    "# Como instalar e configurar o Hadoop no CentOS parte 1/2"
   ]
  },
  {
   "cell_type": "markdown",
   "metadata": {},
   "source": [
    "Fala pessoal, tudo na paz?\n",
    "\n",
    "Neste artigo vou demonstrar como instalar e configurar o Hadoop no sistema operacional CentOS que está rodando sobre uma VM no VirtualBox."
   ]
  },
  {
   "cell_type": "markdown",
   "metadata": {},
   "source": [
    "### Explicar sobre o Hadoop"
   ]
  },
  {
   "cell_type": "markdown",
   "metadata": {},
   "source": [
    "## Instalação do Hadoop\n",
    "\n",
    "### Utilitários"
   ]
  },
  {
   "cell_type": "markdown",
   "metadata": {},
   "source": [
    "Primeiramente irei instalar alguns pacotes utilitários, pois se você acompanhou as últimas postagens sobre o como instalar Linux em uma VM viu que eu instalei apenas o básico para o funcionamento do SO com interface gráfica. Então vamos lá, no terminal:\n",
    "\n",
    "> `sudo yum install bzip2 unzip rsync wget net-tools`"
   ]
  },
  {
   "cell_type": "markdown",
   "metadata": {},
   "source": [
    "### MySQL (MariaDB)\n",
    "\n",
    "É recomendado ter um banco de dados no SO. Portanto irei instalar o mais simples deles, o MariaDB, que é uma versão do MySQL. No terminal:\n",
    "\n",
    "> `sudo yum install mariadb-server mariadb`\n",
    "\n",
    "Com a instalação concluída vamos inicializar o serviço de banco de dados e habilitar a sua inicialização no boot com os comandos:\n",
    "\n",
    "> `sudo systemctl start mariadb.service`<br/>\n",
    "> `sudo systemctl enable mariadb.service`<br/>\n",
    "\n",
    "Definindo a senha para o usuário root do Banco de Dados:\n",
    "\n",
    "> `mysqladmin -u root passwrod 'sua_senha'`\n",
    "\n",
    "Vamos testar a instalação iniciando o console do MySQL:\n",
    "\n",
    "> `mysql -u root -p` <br/>\n",
    "> Digite a sua senha:\n",
    "\n",
    "Se tudo deu certo é esta a tela que está aparecendo para você no terminal:\n",
    "\n",
    "<img src=\"resources/00.png\">"
   ]
  },
  {
   "cell_type": "markdown",
   "metadata": {},
   "source": [
    "Agora que estamos no console do MariaDB, vamos testar um comando simples só para garantir que tudo está funcionando corretamente:\n",
    "\n",
    "> `SELECT user, host, password FROM mysql.user;`\n",
    "\n",
    "> Nota: Não esqueça de utilizar o \"; (ponto e vírgula)\" no final das instruções SQL aqui no terminal.\n",
    "\n",
    "<img src=\"resources/01.png\">"
   ]
  },
  {
   "cell_type": "markdown",
   "metadata": {},
   "source": [
    "Para sair do console do MariaDB digite `exit;`"
   ]
  },
  {
   "cell_type": "markdown",
   "metadata": {},
   "source": [
    "### Instalação do servidor SSH\n",
    "\n",
    "SSH é a sigla para Secure Socket Shell, sendo um dos protocolos específicos de segurança de troca de arquivos entre cliente e servidor de internet, usando criptografia. O objetivo do SSH é permitir que desenvolvedores ou outros usuários realizem alterações em sites e servidores utilizando uma conexão simples e segura.\n",
    "\n",
    "No terminal:\n",
    "\n",
    "> `sudo yum install openssh-server openssh-clients`\n",
    "\n",
    "Ativando o servidor SSH no boot de inicialização:\n",
    "\n",
    "> `sudo chkconfig sshd on`\n",
    "\n",
    "Inicializando o serviço:\n",
    "\n",
    "> `sudo service sshd start`\n",
    "\n",
    "Para verificar se deu certo:\n",
    "\n",
    "> `sudo service sshd status`\n",
    "\n",
    "<img src=\"resources/02.png\">"
   ]
  },
  {
   "cell_type": "markdown",
   "metadata": {},
   "source": [
    "Outra forma de averiguar é verificando as informações de rede na porta 22:\n",
    "\n",
    "> `sudo netstat -tulpn | grep :22`\n",
    "\n",
    "<img src=\"resources/03.png\">"
   ]
  },
  {
   "cell_type": "markdown",
   "metadata": {},
   "source": [
    "Agora daremos permissão para que o usuário root possa acessar livremente na porta 22. No terminal:\n",
    "\n",
    "> `sudo gedit /etc/ssh/sshd_config`\n",
    "\n",
    "No documento que foi abert, remova o # no início das linhas selecionadas:\n",
    "\n",
    "Primeira parte:<br/>\n",
    "\n",
    "<img src=\"resources/04.png\">\n",
    "\n",
    "Segunda Parte:<br/>\n",
    "> Adicione o seu usuário.<br/>\n",
    "\n",
    "<img src=\"resources/05.png\">"
   ]
  },
  {
   "cell_type": "markdown",
   "metadata": {},
   "source": [
    "Reinicializando o serviço ssh:\n",
    "\n",
    "> `sudo service sshd restart`"
   ]
  },
  {
   "cell_type": "markdown",
   "metadata": {},
   "source": [
    "### Instalação do JRE (Java Runtime Edition)\n",
    "\n",
    "Como o Hadoop roda sobre a linguagem de programação Java, precisaremos instalar tanto o JRE quanto JDK na nossa máquina:\n",
    "\n",
    "> `sudo yum install java`"
   ]
  },
  {
   "cell_type": "markdown",
   "metadata": {},
   "source": [
    "### Instalação do JDK (Java Development Kit)\n",
    "\n",
    "A mesma coisa para o JDK, mas o processo para instalação do JDK é um pouco diferente. Será necessário navegar até o site da Oracle. Você pode acessar clicando nesse link: <a target=\"_blank\" href=\"https://www.oracle.com/java/technologies/downloads/\">Oracle.com</a>\n",
    "\n",
    "<img src=\"resources/06.png\">\n",
    "\n",
    "Navegando pelo diretório do arquivo e listando conteúdo da pasta Downloads:\n",
    "\n",
    "<img src=\"resources/07.png\">"
   ]
  },
  {
   "cell_type": "markdown",
   "metadata": {},
   "source": [
    "Agora precisamos descompactar o arquivo e mover ele para outro local:\n",
    "\n",
    "> `tar -xzf jdk-8u202-linux-x64.tar.gz`\n",
    "\n",
    "Irei mover o jdk que foi extraído para o diretório /usr/local/hadoop_dependencies. Os diretórios usr/ e local/ já existem por padrão. Para criar o diretório hadoop_dependencies, vá em:\n",
    "> `cd /usr/local` -> Vá até o diretório usr/local/<br/>\n",
    "> `sudo mkdir hadoop_dependencies` Crie o diretório hadoop_dependencies/<br/>\n",
    "> `cd ~` Volte para o diretório raiz<br/>\n",
    "> `cd Downloads/` Navegue para o diretório Downloads/<br/>\n",
    "\n",
    "Vamos utilizar esse diretório para armazenar todos os pacotes que baixarmos durante a nossa instalação do Hadoop. Dessa forma os arquivos ficam todos organizados.\n",
    "\n",
    "> `sudo mv jdk1.8.0_202/ /usr/local/hadoop_dependencies/`\n",
    "\n",
    "Agora iremos criar um link simbólico. Entenda o link simbólico como um atalho para algum diretório ou arquivo. Portanto, quando nos referimos ao java utilizaremos o link simbólico. Dessa forma, é possível controlar as versões dos pacotes de maneira muito mais dinâmica e profissional. Pois não teremos que alterar dezenas de arquivos todas as vezes que alteramos a versão de algum pacote.\n",
    "\n",
    "> `sudo ln -s /usr/local/hadoop_dependencies/jdk1.8.0_202/ /opt/jdk`\n",
    "\n",
    "Faremos a mesma coisa para o JRE:\n",
    "\n",
    "> `sudo ln -s /usr/lib/jvm/java-1.8.0-openjdk-1.8.0.342.b07-1.el7_9.x86_64/jre/ /opt/jre`"
   ]
  },
  {
   "cell_type": "markdown",
   "metadata": {},
   "source": [
    "Verificando os links simbólicos:\n",
    "\n",
    "<img src=\"resources/08.png\">\n",
    "\n",
    "Perceba que o prefixo do tipo do objeto é `l` que significa link.\n",
    "\n",
    "**Adicionando variáveis de ambiente**\n",
    "\n",
    "Agora que instalamos o JRE e o JDK, precisamos definir as variáveis de ambiente para que o SO possa identifcar os pacotes que foram instalados.\n",
    "\n",
    "> `cd ~`<br/>\n",
    "> `gedit .bashrc`<br/>\n",
    "\n",
    "O arquivo .bashrc é o arquivo que armazena as variáveis de ambiente. Dentro desse arquivo adicione os valores:\n",
    "\n",
    "> export JAVA_HOME=/opt/jdk <br/>\n",
    "> export JRE_HOME=/opt/jre <br/>\n",
    "> export PATH=$PATH:$JRE_HOME/bin:$JAVA_HOME/bin <br/>\n",
    "\n",
    "<img src=\"resources/09.png\">"
   ]
  },
  {
   "cell_type": "markdown",
   "metadata": {},
   "source": [
    "Para atualizar as novas configurações, digite:\n",
    "\n",
    "> `source .bashrc`"
   ]
  },
  {
   "cell_type": "markdown",
   "metadata": {},
   "source": [
    "-> PG 96/266"
   ]
  },
  {
   "cell_type": "markdown",
   "metadata": {},
   "source": []
  }
 ],
 "metadata": {
  "language_info": {
   "name": "python"
  },
  "orig_nbformat": 4
 },
 "nbformat": 4,
 "nbformat_minor": 2
}
