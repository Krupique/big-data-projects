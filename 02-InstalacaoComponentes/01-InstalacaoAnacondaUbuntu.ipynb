{
 "cells": [
  {
   "cell_type": "markdown",
   "metadata": {},
   "source": [
    "# Como instalar e configurar o Anaconda no Ubuntu"
   ]
  },
  {
   "cell_type": "markdown",
   "metadata": {},
   "source": [
    "Olá Pessoal 😁,\n",
    "\n",
    "Nesse tutorial irei mostrar como instalar e configurar o Anaconda Distribution na distribuição Ubuntu do sistema operacional. Caso você esteja acompanhando minha série de tutoriais sobre VMs, Linux e Hadoop vai perceber que agora estarei utilizando outra distribuição. Mas os passos que eu farei aqui também podem ser replicados no CentOS.\n",
    "\n",
    "## O que é o Anaconda?\n",
    "\n",
    "O Anaconda é uma forma de distribuição open source da linguagem de programação Python e é uma plataforma poderosa para a ciência de dados. Ela busca simplificar o gerenciamento de informações e sua utilização.\n",
    "\n",
    "Ele vem com vários pacotes instalados automaticamente e mais 7500 adicionais, que podem ser instalados gratuitamente pelo Python Package Index. Todos esses pacotes e suas versões são monitorados pelo Conda, o gerenciador de pacotes do Anaconda IDE.\n",
    "\n",
    "Utilizar o Anaconda é a maneira mais fácil de trabalhar com ciência de dados e machine learning em Python. Seus pacotes podem rodar em qualquer sistema operacional, como Windows, Linux e macOS.\n",
    "\n",
    "Ele é desenvolvido e mantido pela Anaconda Inc., empresa fundada em 2012 por Peter Wang e Travis Oliphant. Temos a versão gratuita, conhecida como edição individual ou Anaconda Distribution, e as versões pagas direcionadas a empresas, a Anaconda Team Edition e Anaconda Enterprise Edition.\n",
    "\n",
    "## Instalação"
   ]
  },
  {
   "cell_type": "markdown",
   "metadata": {},
   "source": [
    "Primeiramente navege até o site oficial do [Anaconda](https://www.anaconda.com/products/distribution). Veja que o site já reconhece que você está em uma máquina Linux. Clique em download.\n",
    "\n",
    "<img src=\"resources/00.png\">"
   ]
  },
  {
   "cell_type": "markdown",
   "metadata": {},
   "source": [
    "Após ter finalizado o download, abra o terminal e navegue até o diretório `Downloads/` ou o diretório que você baixou o Anaconda. Agora basta utilizar o comando `bash` e o nome do arquivo.\n",
    "\n",
    "> `cd Downloads/`<br/>\n",
    "> `ls`<br/>\n",
    "> `bash Anaconda Anaconda3-2022.05-Linux-x86_64.sh` <br/>\n",
    "\n",
    "Pressione `Enter` para prosseguir com a instalação. Leia os termos de uso e pressione `espaço` para rolar para baixo.\n",
    "\n",
    "Digite `yes` e mais uma vez o `Enter` e nesse momento começará a instalação.\n",
    "\n",
    "---\n",
    "\n",
    "No final da instalação o instalador vai perguntar se você quer adicionar um atalho para inicar os comandos do anaconda através terminal. Digite `yes` e pronto, instalação concluída.\n",
    "\n",
    "<img src=\"resources/02.png\">\n",
    "\n",
    "Volte ao diretório raiz do seu usuário: `/home/usuario` e dê o comando `source .bashrc` para atualizar as variáveis de ambiente.\n",
    "\n",
    "Agora é só testar no terminal:\n",
    "> `python`: Nesse momento o SO irá abrir o terminal Python com a versão instalada pelo Anaconda;<br/>\n",
    "> `jupyter-lab`: Comando para abrir o Jupyter notebook. <br/>\n",
    "\n",
    "Caso nenhum destes comandos funcione pode ser que o instalador não tenha adicionado as variáveis de ambiente no seu Linux, nesse caso veja a solução logo abaixo."
   ]
  },
  {
   "cell_type": "markdown",
   "metadata": {},
   "source": [
    "---\n",
    "\n",
    "### Tratando possíveis erros\n",
    "\n",
    "Especialmente no Ubuntu, pode acontecer de o instalado não adicionar as variáveis de ambiente automáticamente para você. Portanto, você precisará fazer esse processo manualmente. É muito simples:\n",
    "\n",
    "1. Certifique de estar no diretório home/seu_usuario;\n",
    "2. Abra o arquivo de variáveis de ambiente com o editor de texto;\n",
    "3. Adicione as variáveis do Anaconda, salve e feche o arquivo;\n",
    "4. Dê o comando source para o SO atualizar e reconhecer o arquivo;\n",
    "\n",
    "> `cd /home/krupck`<br/>\n",
    "> `gedit .bashrc`<br/>\n",
    "> <img src=\"resources/03.png\"> <br/>\n",
    "\n",
    "No arquivo de configuração .bashrc:\n",
    "> `if [ -d \"$HOME/anaconda3/bin\"] ; then`<br/>\n",
    "    `PATH=\"$HOME/anaconda3/bin:$PATH\"`<br/>\n",
    "    `fi`\n",
    "\n",
    "Após salvar e fechar o arquivo, no terminal:\n",
    "> `source .bashrc`"
   ]
  },
  {
   "cell_type": "markdown",
   "metadata": {},
   "source": [
    "## Fim"
   ]
  }
 ],
 "metadata": {
  "kernelspec": {
   "display_name": "Python 3.8.9 64-bit",
   "language": "python",
   "name": "python3"
  },
  "language_info": {
   "name": "python",
   "version": "3.8.9"
  },
  "orig_nbformat": 4,
  "vscode": {
   "interpreter": {
    "hash": "b081a66ee97bd2b6a16f43955f1d810b7ea816d6eaeb65e157ef9e038445f0c6"
   }
  }
 },
 "nbformat": 4,
 "nbformat_minor": 2
}
