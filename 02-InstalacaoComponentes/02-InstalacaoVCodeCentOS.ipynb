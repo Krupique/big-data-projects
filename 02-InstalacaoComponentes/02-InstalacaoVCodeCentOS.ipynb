{
 "cells": [
  {
   "cell_type": "markdown",
   "metadata": {},
   "source": [
    "# Como instalar o Visual Studio Code no Linux"
   ]
  },
  {
   "cell_type": "markdown",
   "metadata": {},
   "source": [
    "Olá pessoal,\n",
    "\n",
    "Nesse tutorial irei mostrar como instalar e configurar o Visual Studio Code no Linux. O VS Code é um dos editores de código mais utilizados no mundo.\n",
    "\n",
    "## O que é VS Code?\n",
    "O Visual Studio Code (VS Code) é um editor de código de código aberto desenvolvido pela Microsoft. Está disponível para Windows, Mac e Linux. Foi criado com Electron, ferramenta desenvolvida pelo GitHub que permite a criação de softwares Desktop com HTML, CSS e JavaScript.\n",
    "\n",
    "**O Visual Studio Code NÃO é o Visual Studio** <br/>\n",
    "O Visual Studio é uma IDE desenvolvida pela Microsoft, dedicada ao .NET Framework e a linguagens como C, C++, C# e F#. Por ser uma solução completa, é uma ferramenta bem mais pesada.\n",
    "\n",
    "Já o VS Code é um Editor de Código, o qual possui as funcionalidades mais simples como:\n",
    "\n",
    "* Edição de código com suporte a várias linguagens de programação;\n",
    "* Terminal de comandos integrado;\n",
    "* Controle de versão;\n",
    "\n",
    "Por isso é uma ferramenta bem mais leve. E para instalar essa ferramenta no Linux é extremamente simples, mantendo o padrão Microsoft de facilidade para o usuário final, até no Linux.\n",
    "\n",
    "Aqui o site oficial do VS Code: https://code.visualstudio.com"
   ]
  },
  {
   "cell_type": "markdown",
   "metadata": {},
   "source": [
    "## Instalação do VS Code no CentOS (e em distros RPM)"
   ]
  },
  {
   "cell_type": "markdown",
   "metadata": {},
   "source": [
    "É possível instalar o VS Code sem sequer abrir o navegador, basta ir no terminal e digitar os seguintes comandos:\n",
    "\n",
    "> `sudo rpm --import https://packages.microsoft.com/keys/microsoft.asc`<br/>\n",
    "\n",
    "> `sudo sh -c 'echo -e \"[code]\\nname=Visual Studio Code\\nbaseurl=https://packages.microsoft.com/yumrepos/vscode\\nenabled=1\\ngpgcheck=1\\ngpgkey=https://packages.microsoft.com/keys/microsoft.asc\" > /etc/yum.repos.d/vscode.repo'`<br/>\n",
    "\n",
    "> `yum check-update`<br/>\n",
    "> `sudo yum install code`<br/>"
   ]
  },
  {
   "cell_type": "markdown",
   "metadata": {},
   "source": [
    "<img src=\"resources/04.png\">\n",
    "\n",
    "<img src=\"resources/05.png\">"
   ]
  },
  {
   "cell_type": "markdown",
   "metadata": {},
   "source": [
    "Confirme a solicitação e nesse momento será iniciado a instalação. Agora é só aguardar.\n",
    "\n",
    "\n",
    "Para testar basta digitar `code .` no terminal e o VS Code será iniciado.\n",
    "\n",
    "<img src=\"resources/06.png\">"
   ]
  },
  {
   "cell_type": "markdown",
   "metadata": {},
   "source": [
    "## Instalação do VS Code no Ubuntu (e em distros DEB)"
   ]
  },
  {
   "cell_type": "markdown",
   "metadata": {},
   "source": [
    "No Ubuntu eu vou mostrar como fazer o download baixando o instalador do vscode. É um processo tão simples quanto instalar no CentOS. \n",
    "\n",
    "Vá até o site do VS Code https://code.visualstudio.com/download\n",
    "\n",
    "<img src=\"resources/07.png\">\n",
    "\n",
    "Na opção Linux, clique no botão de download `.deb`. Nesse momento o download será iniciado, aguarde até a finalização do download.\n",
    "\n",
    "Após finalizar o download, vá no terminal, navegue até o diretório do arquivo e digite:\n",
    "\n",
    "> `sudo dpkg -i nome_do_arquivo`\n",
    "\n",
    "Pronto! Para testar digite `code .` e nesse momento o VS Code será iniciado.\n",
    "\n",
    "\n",
    "\n",
    "Espero que esse tutorial tenha sido útil. Qualquer dúvida pode me mandar mensagem nas redes sociais. Abraços.\n",
    "\n",
    "at.te,\n",
    "\n",
    "Henrique K."
   ]
  }
 ],
 "metadata": {
  "kernelspec": {
   "display_name": "Python 3.8.9 64-bit",
   "language": "python",
   "name": "python3"
  },
  "language_info": {
   "name": "python",
   "version": "3.8.9"
  },
  "orig_nbformat": 4,
  "vscode": {
   "interpreter": {
    "hash": "b081a66ee97bd2b6a16f43955f1d810b7ea816d6eaeb65e157ef9e038445f0c6"
   }
  }
 },
 "nbformat": 4,
 "nbformat_minor": 2
}
