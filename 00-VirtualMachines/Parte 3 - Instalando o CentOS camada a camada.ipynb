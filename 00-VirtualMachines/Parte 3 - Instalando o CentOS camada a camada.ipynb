{
 "cells": [
  {
   "cell_type": "markdown",
   "metadata": {},
   "source": [
    "# Como instalar e configurar Linux em uma máquina virtual parte 3/3"
   ]
  },
  {
   "cell_type": "markdown",
   "metadata": {},
   "source": [
    "Olá pessoal, tudo tranquilo?\n",
    "\n",
    "Dando sequência, vamos para a parte 3 do tutorial. Agora irei mostrar como fazer a instalação e configuração do CentOS camada a camada em sua VM. Esta postagem traz conteúdos um pouco mais avançados que as duas primeiras. Portanto, recomendo fortemente a leitura das partes 1 e 2 antes de continuarmos.\n",
    "\n",
    "* <strike>Parte 1: O que são máquinas virtuais e como instalar o VirtualBox em sua máquina;</strike>\n",
    "* <strike>Parte 2: Como instalar o Ubuntu na máquina virtual;</strike>\n",
    "* Parte 3: Como instalar o CentOS camada a camada na máquina virtual;\n",
    "\n",
    "---\n",
    "\n",
    "O CentOS é uma distribuição Linux derivada do Red Hat Enterprise Linux (RHEL) e é distribuída de maneira gratuita pela comunidade. Este sistema é amplamente utilizado pelo mercado. A Red Hat conta com uma família de distribuições:\n",
    "* CentOS: Distribuição gratuita para servidores;\n",
    "* RHEL: Distribuição paga e com suporte direto da empresa;\n",
    "* Fedora: Distribuição voltada para máquinas de trabalho e com pacotes mais recentes.\n",
    "\n",
    "O CentOS é uma distribuição Linux conhecida pelo seu alto nível de estabilidade, previsibilidade e pela possibilidade de ser configurada de múltiplas maneiras. Feita a partir do Red Hat Enterprise Linux (RHEL), ela é mantida em um modelo simples, com alto nível de transparência e abertura.\n",
    "\n",
    "\n",
    "### Quais são as principais as vantagens do CentOS?\n",
    "\n",
    "* **É gratuito**: Apesar de não ter suporte personalizado, como o Red Hat, por exemplo, o CentOS conta com uma comunidade ativa, pronta para solucionar problemas. Além disso, graças aos fóruns e à documentação oficial, as chances de uma falha não ter solução disponível é muito baixa.\n",
    "\n",
    "* **Compatibilidade com o Red Hat**: Como os códigos-fonte do CentOS e do Red Hat Enterprise Linux são semelhantes, a compatibilidade entre os dois sistemas é elevada. Em outras palavras, é possível adotar extensões e aplicações semelhantes em ambos os ambientes, tornando a migração entre os sistemas ágil e segura.\n",
    "\n",
    "* **Estabilidade de versões**: Outro ponto a se destacar é a facilidade para ser implementado. O CentOS não exige atualizações constantes e o suporte ao software é feito com uma visão de longo prazo. Dessa forma, a equipe de TI pode utilizar esse sistema mesmo em ambientes críticos, nos quais o número de interrupções aceitas para grandes updates é baixo. Além disso, a simplificação das rotinas de gestão de TI proporcionada por esse fator reduz os custos operacionais de médio e longo prazo.\n",
    "\n",
    "* **Amigável com o usuário final**: Por ser um sistema operacional sólido e com uma boa interface gráfica, o CentOS também pode ser utilizado nas máquinas do usuário final. Isso dá liberdade para gestores de TI, que podem criar uma infraestrutura corporativa integrada e eficaz.\n",
    "\n",
    "* **Leve e com ótima perfomance**: Vale destacar, também, que o baixo consumo de recursos torna o CentOS uma opção atrativa especialmente em companhias cujos dispositivos têm uma baixa capacidade de processamento.\n",
    "\n",
    "**Referências:**\n",
    "* [1] CentOS: Tudo O Que Você Precisa Saber Sobre Esta Distribuição Linux. Disponível em: <[e-tinet.com](https://e-tinet.com/linux/centos-distribuicao-linux/)>\n",
    "* [2] SIMIONI, Dionatan. O que é CentOS e como usá-lo. Disponível em: <[hostgator.com](https://www.hostgator.com.br/blog/o-que-e-centos/)>\n",
    "\n",
    "\n",
    "Sem mais delongas, vamos para a instalação. Neste tutorial estou assumindo que você já sabe como configurar, instalar e carregar uma iso no VirtualBox, pois irei começar direto com a instalação do CentOS. Caso não saiba, leia as partes 1 e 2 do tutorial."
   ]
  },
  {
   "cell_type": "markdown",
   "metadata": {},
   "source": [
    "### Download do CentOS Minimal"
   ]
  },
  {
   "cell_type": "markdown",
   "metadata": {},
   "source": [
    "No site do CentOS é possível encontrar o arquivo de download facilmente. A arquitetura que iremos baixar será a `x86_64`. Basta clicar e você será redirecionado para a parte dos downloads, onde você vai selecionar de qual repositório você deseja baixar.\n",
    "\n",
    "Link para download direto: [CentOS 7.9](http://mirror.ufscar.br/centos/7.9.2009/isos/x86_64/CentOS-7-x86_64-Minimal-2009.iso)\n",
    "\n",
    "<img src=\"resources/42.png\">\n",
    "\n",
    "Selecione a versão **CentOS-7-x86_64-Minimal-2009.iso** e nesse momento o download será iniciado.\n",
    "\n",
    "<img src=\"resources/43.png\">"
   ]
  },
  {
   "cell_type": "markdown",
   "metadata": {},
   "source": [
    "Após finalizar o download, inicie o VirtualBox, clique em Novo e crie uma nova Máquina Virtual.\n",
    "\n",
    "> Nota: O VirtualBox não possui a opção CentOS na versão. Então selecione **Other Linux (64-bit)** e continue a criação da VM.\n",
    "\n",
    "<img src=\"resources/44.png\">"
   ]
  },
  {
   "cell_type": "markdown",
   "metadata": {},
   "source": [
    "### No CentOS"
   ]
  },
  {
   "cell_type": "markdown",
   "metadata": {},
   "source": [
    "Após iniciar o CentOS você se depara com a tela de instalação. Clique em **Install CentOS 7**\n",
    "\n",
    "<img src=\"resources/45.png\">"
   ]
  },
  {
   "cell_type": "markdown",
   "metadata": {},
   "source": [
    "Se você leu a parte 2 do tutorial já percebeu uma semelhança na instalação do CentOs com a do Ubuntu. A primeira coisa a ser feita é a escolha do idioma principal do SO. Selecione o idioma desejado e clique em **Continue**.\n",
    "\n",
    "<img src=\"resources/46.png\">"
   ]
  },
  {
   "cell_type": "markdown",
   "metadata": {},
   "source": [
    "Agora temos uma série de configurações para serem feitas, divididas em três abas:\n",
    "* Localização;\n",
    "* Software;\n",
    "* System;"
   ]
  },
  {
   "cell_type": "markdown",
   "metadata": {},
   "source": [
    "**Localização**<br/>\n",
    "\n",
    "Começando pela localização. Selecione a opção **DATE & TIME**.\n",
    "\n",
    "<img src=\"resources/47.PNG\">"
   ]
  },
  {
   "cell_type": "markdown",
   "metadata": {},
   "source": [
    "Escolha o seu fuso-horário clicando em algum país. Clique em **Done** para confirmar.\n",
    "\n",
    "<img src=\"resources/48.PNG\">"
   ]
  },
  {
   "cell_type": "markdown",
   "metadata": {},
   "source": [
    "**KEYBOARD**\n",
    "\n",
    "Idioma do teclado. Caso o seu teclado seja o padrão Brasileiro, siga o passo a passo:\n",
    "\n",
    "<img src=\"resources/50.png\">"
   ]
  },
  {
   "cell_type": "markdown",
   "metadata": {},
   "source": [
    "**Language Support**\n",
    "\n",
    "Caso você queira instalar mais um idioma no seu SO. Não é necessário mexer nesse aqui.\n",
    "\n",
    "<img src=\"resources/51.PNG\">"
   ]
  },
  {
   "cell_type": "markdown",
   "metadata": {},
   "source": [
    "**INSTALLATION SOURCE**\n",
    "\n",
    "Está opção é para caso você queira adicionar repositórios adicionais, pode deixar do jeito que está por padrão.\n",
    "\n",
    "<img src=\"resources/52.PNG\">\n",
    "\n",
    "**SOFTWARE SELECTION**\n",
    "\n",
    "Está opção é para caso você queira adicionar softwares adicionais, pode deixar do jeito que está por padrão.\n",
    "\n",
    "<img src=\"resources/53.PNG\">"
   ]
  },
  {
   "cell_type": "markdown",
   "metadata": {},
   "source": [
    "Vamos par a parte de SYSTEM\n",
    "\n",
    "**INSTALLATION DESTINATION**\n",
    "\n",
    "Aqui é para selecionar o disco no qual o SO será instalado, bem como configurações de partição. Pode deixar o padrão, pois o disco de instalação é o disco virtual que foi definido nas configurações da VM.\n",
    "\n",
    "<img src=\"resources/54.PNG\">"
   ]
  },
  {
   "cell_type": "markdown",
   "metadata": {},
   "source": [
    "**NETWORK & HOSTNAME**\n",
    "\n",
    "Por padrão, o CentOS deixa desligado a conexão com a internet. Devemos ativá-la.\n",
    "\n",
    "<img src=\"resources/55.PNG\"><br/>\n",
    "\n",
    "<img src=\"resources/56.PNG\">"
   ]
  },
  {
   "cell_type": "markdown",
   "metadata": {},
   "source": [
    "**SECURITY POLICY**\n",
    "\n",
    "Esta opção se refere as políticas de segurança. Vamos deixar o padrão.\n",
    "\n",
    "<img src=\"resources/57.PNG\">"
   ]
  },
  {
   "cell_type": "markdown",
   "metadata": {},
   "source": [
    "---"
   ]
  },
  {
   "cell_type": "markdown",
   "metadata": {},
   "source": [
    "Ufa, depois de todas essas configurações é hora de iniciar a instalação. Clique em **Begin Installation**.\n",
    "\n",
    "Enquanto o CentOS é instalado vamos configurar o usuário padrão e o usuário root.\n",
    "\n",
    "Começando pelo **ROOT PASSWORD**.\n",
    "\n",
    "<img src=\"resources/59.PNG\">\n"
   ]
  },
  {
   "cell_type": "markdown",
   "metadata": {},
   "source": [
    "> Nota: Caso a senha seja considerada muito simples você terá que clicar em **Done** duas vezes."
   ]
  },
  {
   "cell_type": "markdown",
   "metadata": {},
   "source": [
    "**USER CREATION**\n",
    "\n",
    "Passo bem semelhante ao que fizemos na instalação do Ubuntu. Defina o seu **Nome Completo**, **Nome de Usuário**, **Senha** e a **Confirmação de Senha**.\n",
    "\n",
    "<img src=\"resources/60.PNG\">"
   ]
  },
  {
   "cell_type": "markdown",
   "metadata": {},
   "source": [
    "> Nota: Caso a senha seja considerada muito simples você terá que clicar em **Done** duas vezes novamente."
   ]
  },
  {
   "cell_type": "markdown",
   "metadata": {},
   "source": [
    "---"
   ]
  },
  {
   "cell_type": "markdown",
   "metadata": {},
   "source": [
    "Com a instalação concluída clique em **Finish Configuration**. Nesse momento o SO vai configurar alguns arquivos de configuração e ao terminar clique na opção **Reboot**.\n",
    "\n",
    "<img src=\"resources/61.PNG\">"
   ]
  },
  {
   "cell_type": "markdown",
   "metadata": {},
   "source": [
    "Pronto! Agora temos o nosso CentOS instalado. É só partir para a diversão kkkkk.\n",
    "\n",
    "Calma, um SO cru desse jeito não tem muito serventia para nós. Vamos instalar camada a camada para adicionar mais recursos ao nosso SO.\n",
    "\n",
    "<img src=\"resources/62.PNG\">"
   ]
  },
  {
   "cell_type": "markdown",
   "metadata": {},
   "source": [
    "A primeira etapa é logar no sistema. Óbvio que você lembra o seu username e senha né. Não é o root, e sim o usuário padrão.\n",
    "\n",
    "<img src=\"resources/63.PNG\">"
   ]
  },
  {
   "cell_type": "markdown",
   "metadata": {},
   "source": [
    "Podemos mexer normalmente no nosso SO. Para quem não é habituado com Linux o comando `ls -la` exibe os diretórios e arquivos detalhados, vejamos:\n",
    "\n",
    "<img src=\"resources/64.PNG\">"
   ]
  },
  {
   "cell_type": "markdown",
   "metadata": {},
   "source": [
    "Veja que só temos alguns arquivos de configuração no nosso SO. Vamos continuar a instalação."
   ]
  },
  {
   "cell_type": "markdown",
   "metadata": {},
   "source": [
    "### Instalação da Interface Gráfica, Componentes e outros Utilitários"
   ]
  },
  {
   "cell_type": "markdown",
   "metadata": {},
   "source": [
    "Vamos começar verificando todos os grupos de pacotes disponíveis usando o comando `yum grouplist`. Como você pode ver na saída abaixo, precisamos basicamente instalar os grupos de pacotes **GNOME Desktop** e **Graphical Administration Tools**.\n",
    "\n",
    "<img src=\"resources/67.PNG\">"
   ]
  },
  {
   "cell_type": "markdown",
   "metadata": {},
   "source": [
    "Antes de instalar um novo pacote, é sempre uma boa ideia atualizar o Sistema com as últimas versões disponíveis usando o comando yum update conforme mostrado abaixo.\n",
    "\n",
    "> `sudo yum update`\n",
    "\n",
    "<img src=\"resources/68.PNG\">\n",
    "\n",
    "Neste momento será solicitado a confirmação. Digite `y`."
   ]
  },
  {
   "cell_type": "markdown",
   "metadata": {},
   "source": [
    "Para instalar os grupos de pacotes GNOME Desktop e Graphical Administration Tools, você precisa usar:\n",
    "> `sudo yum groupinstall \"GNOME Desktop\" \"Graphical Administration Tools\"`\n",
    "\n",
    "<img src=\"resources/69.PNG\">"
   ]
  },
  {
   "cell_type": "markdown",
   "metadata": {},
   "source": [
    "Após a instalação bem-sucedida do ambiente GNOME Desktop, você precisa habilitar e tornar o modo gráfico como padrão. Isso pode ser feito usando o comando gráfico:\n",
    "\n",
    "> `sudo systemctl set-default graphical`\n",
    "\n",
    "Caso você não queira ficar digitando sudo e a senha toda vez, logue como usuário root:\n",
    "\n",
    "> `su root` <br/>\n",
    "> Password: Digite sua senha de usuário root\n",
    "\n",
    "Agora o comando pode ser simplesmente assim:\n",
    "\n",
    "> `systemctl set-default graphical`\n",
    "\n",
    "<img src=\"resources/70.PNG\">"
   ]
  },
  {
   "cell_type": "markdown",
   "metadata": {},
   "source": [
    "Pronto! Agora é só reinciar que na próxima inicialização o sistema já terá a interface gráfica.\n",
    "\n",
    "> `reboot`"
   ]
  },
  {
   "cell_type": "markdown",
   "metadata": {},
   "source": [
    "<img src=\"resources/71.PNG\">"
   ]
  },
  {
   "cell_type": "markdown",
   "metadata": {},
   "source": [
    "### Importando e Exportando Versão\n",
    "\n",
    "Podemos desligar a VM por enquanto. \n",
    "\n",
    "No seu VirtualBox vá em Arquivo (F) e selecione a opção Exportar Appliance.\n",
    "\n",
    "<img src=\"resources/72.png\">\n",
    "\n",
    "Escolha o CentOS que você acabou de instalar e clique em próximo\n",
    "\n",
    "<img src=\"resources/73.png\">\n",
    "\n",
    "Deixa o Formato de Virtualização padrão Aberta 1.0.\n",
    "\n",
    "Na opção Arquivo (F) Navegue até o diretório que você deseja guardar o arquivo. É interessante criar um diretório chamado backup para que você consiga controlar as versões de backups das suas VMs.\n",
    "\n",
    "As outras opções você pode deixar como estão por padrão. Clique em próximo.\n",
    "\n",
    "<img src=\"resources/74.png\">\n",
    "\n",
    "É recomendado você detalhar na descrição sobre do que se trata essa versão do backup. Segue a imagem:\n",
    "\n",
    "<img src=\"resources/75.PNG\">\n",
    "\n",
    "Para finalizar clique em **Exportar**. Neste momento o VirtualBox vai começar a gravação do seu backup."
   ]
  },
  {
   "cell_type": "markdown",
   "metadata": {},
   "source": [
    "### Habilitando recursos adicionais no VirtualBox\n",
    "\n",
    "A exemplo do que fizemos com o Ubuntu, aqui também iremos adicionar os recursos espciais do VirtualBox. O processo é exatamente o mesmo:\n",
    "\n",
    "<img src=\"resources/80.png\"><br/>\n",
    "\n",
    "<img src=\"resources/81.png\"><br/>\n",
    "\n",
    "Digite a senha do usuário root:\n",
    "\n",
    "<img src=\"resources/82.png\"><br/>\n",
    "\n"
   ]
  },
  {
   "cell_type": "markdown",
   "metadata": {},
   "source": [
    "\n",
    "### Instalção do GCC\n",
    "\n",
    "GCC ou GNU Compiler Collection é uma ferramenta lançada pela Free Software Foundation e como o nome sugere, é uma coleção muito útil de compiladores de programação como C, C++ , Objective-C, Objective-C++, Fortran, Java, Go e Ada. O GCC é um compilador oficial do sistema operacional GNU, mas também é um compilador padrão em muitos sistemas operacionais Unix, como o Linux.\n",
    "\n",
    "> `sudo yum install -y gcc`\n",
    "\n",
    "\n",
    "### Adicionando pastas compartilhadas\n",
    "\n",
    "Você pode ter percebido que os SOs estão completamente independentes um do outro. Mas e se quisermos compartilhar arquivos entre os Sistemas?\n",
    "Esta situação pode ser bastante útil quando queremos agilizar algum serviço. Para compartilhar pastas utilizamos uma opção do VirtualBox chamada de **Pastas Compartilhadas**, o nome não poderia ser mais sugestivo. \n",
    "\n",
    "No VirtualBox, vá em:\n",
    "\n",
    "<img src=\"resources/77.png\"><br/>\n",
    "\n",
    "<img src=\"resources/78.png\"><br/>\n",
    "\n",
    "Nas opções:\n",
    "\n",
    "* **3**- Escolha o diretório que será compartilhado;\n",
    "* **4**- O nome do diretório;\n",
    "* **5**- O modo de compartilhamento. Somente leitura ou Montar Automaticamente (leitura e escrita).\n",
    "\n",
    "* Ponto de Montagem pode deixar o padrão **em branco**.\n",
    "\n",
    "<img src=\"resources/79.png\"><br/>\n",
    "\n",
    "Veja que agora a pasta compartilhada aparece no desktop:\n",
    "\n",
    "<img src=\"resources/83.png\">\n",
    "\n",
    "Para acessá-la basta digitar as credenciais do usuário root. Mas caso você queira acessar via linha de comando vá em:\n",
    "\n",
    "> `sudo cd /media/sf_sua_pasta`\n",
    "\n",
    "\n"
   ]
  },
  {
   "cell_type": "markdown",
   "metadata": {},
   "source": [
    "### Mais algumas configurações"
   ]
  },
  {
   "cell_type": "markdown",
   "metadata": {},
   "source": [
    "Vamos instalar o Gedit e o Firefox:\n",
    "\n",
    "> `sudo yum install gedit`<br/>\n",
    "> `sudo yum install firefox`<br/>"
   ]
  },
  {
   "cell_type": "markdown",
   "metadata": {},
   "source": [
    "Temos um editor de textos e um navegador."
   ]
  },
  {
   "cell_type": "markdown",
   "metadata": {},
   "source": [
    "Agora iremos conceder permissão de root para o usuário padrão. Primeiro faça login como usuário root e depois vá em editar o arquivo sudoers:\n",
    "\n",
    "> `su root` <br/>\n",
    "> `gedit /etc/sudoers` <br/>"
   ]
  },
  {
   "cell_type": "markdown",
   "metadata": {},
   "source": [
    "Navegue até o final do arquivo e adicione permissão para o seu usuário padrão, como na imagem:\n",
    "\n",
    "> Nota: Pressione `um tab` para separar cada parâmetro. \n",
    "\n",
    "<img src=\"resources/76.png\">"
   ]
  },
  {
   "cell_type": "markdown",
   "metadata": {},
   "source": [
    "Salvar e Fechar arquivo. Agora você como usuário padrão pode fazer qualquer ação de um usuário root.\n",
    "\n",
    "> Nota: Faça isso somente se você não tiver problemas com segurança ou acesso. Em um ambiente corporativo você não deve conceder permissão root para qualquer usuário.<br/>\n",
    "Lembre-se: O usuário root pode fazer o que quiser no SO. Incluindo criar, ler, escrever e excluir qualquer arquivo ou diretório no SO.\n"
   ]
  },
  {
   "cell_type": "markdown",
   "metadata": {},
   "source": [
    "Finalizamos essa parte 3 do Tutorial. Espero que tenham gostado dessa série de postagens. Eu trouxe esses guias sobre Máquinas Virtuais, instalação do Ubuntu e a instalação do CentOS. porque futuramente irei mostrar como instalar e manipular o Hadoop.\n",
    "\n",
    "O Hadoop é o principal framework para lidar com computação distribuída, sendo o modelo ideal para trabalhar com o Big Data.\n",
    "\n",
    "E o Linux virtualizado é o ambiente perfeito para que possamos testar o Hadoop, simulando um cluster de computadores no nosso ambiente virtual. \n",
    "\n",
    "Até mais pessoal!"
   ]
  }
 ],
 "metadata": {
  "kernelspec": {
   "display_name": "Python 3 (ipykernel)",
   "language": "python",
   "name": "python3"
  },
  "language_info": {
   "codemirror_mode": {
    "name": "ipython",
    "version": 3
   },
   "file_extension": ".py",
   "mimetype": "text/x-python",
   "name": "python",
   "nbconvert_exporter": "python",
   "pygments_lexer": "ipython3",
   "version": "3.8.9"
  },
  "vscode": {
   "interpreter": {
    "hash": "b081a66ee97bd2b6a16f43955f1d810b7ea816d6eaeb65e157ef9e038445f0c6"
   }
  }
 },
 "nbformat": 4,
 "nbformat_minor": 4
}
