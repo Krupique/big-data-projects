{
 "cells": [
  {
   "cell_type": "markdown",
   "metadata": {},
   "source": [
    "# Como instalar e configurar Linux em uma máquina virtual parte 3/3"
   ]
  },
  {
   "cell_type": "markdown",
   "metadata": {},
   "source": [
    "Olá pessoal, tudo tranquilo?\n",
    "\n",
    "Dando sequência, vamos para a parte 3 do tutorial. Agora irei mostrar como fazer a instalação e configuração do CentOS camada a camada em sua VM. Esta postagem traz conteúdos um pouco mais avançados que as duas primeiras. Portanto, recomendo fortemente a leitura das partes 1 e 2 antes de continuarmos.\n",
    "\n",
    "* <strike>Parte 1: O que são máquinas virtuais e como instalar o VirtualBox em sua máquina;</strike>\n",
    "* <strike>Parte 2: Como instalar o Ubuntu na máquina virtual;</strike>\n",
    "* Parte 3: Como instalar o CentOS camada a camada na máquina virtual;\n",
    "\n",
    "Também estou assumindo que você já sabe como configurar, instalar e carregar uma iso no VirtualBox, pois irei começar direto a parti da instalação do CentOS.\n",
    "\n",
    "Sem mais delongas, vamos para a instalação."
   ]
  },
  {
   "cell_type": "markdown",
   "metadata": {},
   "source": [
    "### Download do CentOS Minimal"
   ]
  },
  {
   "cell_type": "markdown",
   "metadata": {},
   "source": [
    "No site do CentOS é possível encontrar o arquivo de download facilmente. A arquitetura que iremos baixar será a `x86_64`. Basta clicar e você será redirecionado para a parte dos downloads, onde você vai selecionar de qual repositório você deseja baixar.\n",
    "\n",
    "Link para download direto: [CentOS 7.9](http://mirror.ufscar.br/centos/7.9.2009/isos/x86_64/CentOS-7-x86_64-Minimal-2009.iso)\n",
    "\n",
    "<img src=\"resources/42.png\">\n",
    "\n",
    "Selecione a versão **CentOS-7-x86_64-Minimal-2009.iso** e nesse momento o download será iniciado.\n",
    "\n",
    "<img src=\"resources/43.png\">"
   ]
  },
  {
   "cell_type": "markdown",
   "metadata": {},
   "source": [
    "Após finalizar o download, inicie o VirtualBox, clique em Novo e crie uma nova Máquina Virtual.\n",
    "\n",
    "> Nota: O VirtualBox não possui a opção CentOS na versão. Então selecione **Other Linux (64-bit)** e continue a criação da VM.\n",
    "\n",
    "<img src=\"resources/44.png\">"
   ]
  },
  {
   "cell_type": "markdown",
   "metadata": {},
   "source": [
    "### No CentOS"
   ]
  },
  {
   "cell_type": "markdown",
   "metadata": {},
   "source": [
    "Após iniciar o CentOS você se depara com a tela de instalação. Clique em **Install CentOS 7**\n",
    "\n",
    "<img src=\"resources/45.png\">"
   ]
  },
  {
   "cell_type": "markdown",
   "metadata": {},
   "source": [
    "Se você leu a parte 2 do tutorial já percebeu uma semelhança na instalação do CentOs com a do Ubuntu. A primeira coisa a ser feita é a escolha do idioma principal do SO. Selecione o idioma desejado e clique em **Continue**.\n",
    "\n",
    "<img src=\"resources/46.png\">"
   ]
  },
  {
   "cell_type": "markdown",
   "metadata": {},
   "source": [
    "Agora temos uma série de configurações para serem feitas, divididas em três abas:\n",
    "* Localização;\n",
    "* Software;\n",
    "* System;"
   ]
  },
  {
   "cell_type": "markdown",
   "metadata": {},
   "source": [
    "**Localização**<br/>\n",
    "\n",
    "Começando pela localização. Selecione a opção **DATE & TIME**.\n",
    "\n",
    "<img src=\"resources/47.PNG\">"
   ]
  },
  {
   "cell_type": "markdown",
   "metadata": {},
   "source": [
    "Escolha o seu fuso-horário clicando em algum país. Clique em **Done** para confirmar.\n",
    "\n",
    "<img src=\"resources/48.PNG\">"
   ]
  },
  {
   "cell_type": "markdown",
   "metadata": {},
   "source": [
    "**KEYBOARD**\n",
    "\n",
    "Idioma do teclado. Caso o seu teclado seja o padrão Brasileiro, siga o passo a passo:\n",
    "\n",
    "<img src=\"resources/50.png\">"
   ]
  },
  {
   "cell_type": "markdown",
   "metadata": {},
   "source": [
    "**Language Support**\n",
    "\n",
    "Caso você queira instalar mais um idioma no seu SO. Não é necessário mexer nesse aqui.\n",
    "\n",
    "<img src=\"resources/51.PNG\">"
   ]
  },
  {
   "cell_type": "markdown",
   "metadata": {},
   "source": [
    "**INSTALLATION SOURCE**\n",
    "\n",
    "Está opção é para caso você queira adicionar repositórios adicionais, pode deixar do jeito que está por padrão.\n",
    "\n",
    "<img src=\"resources/52.PNG\">\n",
    "\n",
    "**SOFTWARE SELECTION**\n",
    "\n",
    "Está opção é para caso você queira adicionar softwares adicionais, pode deixar do jeito que está por padrão.\n",
    "\n",
    "<img src=\"resources/53.PNG\">"
   ]
  },
  {
   "cell_type": "markdown",
   "metadata": {},
   "source": [
    "Vamos par a parte de SYSTEM\n",
    "\n",
    "**INSTALLATION DESTINATION**\n",
    "\n",
    "Aqui é para selecionar o disco no qual o SO será instalado, bem como configurações de partição. Pode deixar o padrão, pois o disco de instalação é o disco virtual que foi definido nas configurações da VM.\n",
    "\n",
    "<img src=\"resources/54.PNG\">"
   ]
  },
  {
   "cell_type": "markdown",
   "metadata": {},
   "source": [
    "**NETWORK & HOSTNAME**\n",
    "\n",
    "Por padrão, o CentOS deixa desligado a conexão com a internet. Devemos ativá-la.\n",
    "\n",
    "<img src=\"resources/55.PNG\"><br/>\n",
    "\n",
    "<img src=\"resources/56.PNG\">"
   ]
  },
  {
   "cell_type": "markdown",
   "metadata": {},
   "source": [
    "**SECURITY POLICY**\n",
    "\n",
    "Esta opção se refere as políticas de segurança. Vamos deixar o padrão.\n",
    "\n",
    "<img src=\"resources/57.PNG\">"
   ]
  },
  {
   "cell_type": "markdown",
   "metadata": {},
   "source": [
    "---"
   ]
  },
  {
   "cell_type": "markdown",
   "metadata": {},
   "source": [
    "Ufa, depois de todas essas configurações é hora de iniciar a instalação. Clique em **Begin Installation**.\n",
    "\n",
    "Enquanto o CentOS é instalado vamos configurar o usuário padrão e o usuário root.\n",
    "\n",
    "Começando pelo **ROOT PASSWORD**.\n",
    "\n",
    "<img src=\"resources/59.PNG\">\n"
   ]
  },
  {
   "cell_type": "markdown",
   "metadata": {},
   "source": [
    "> Nota: Caso a senha seja considerada muito simples você terá que clicar em **Done** duas vezes."
   ]
  },
  {
   "cell_type": "markdown",
   "metadata": {},
   "source": [
    "**USER CREATION**\n",
    "\n",
    "Passo bem semelhante ao que fizemos na instalação do Ubuntu. Defina o seu **Nome Completo**, **Nome de Usuário**, **Senha** e a **Confirmação de Senha**.\n",
    "\n",
    "<img src=\"resources/60.PNG\">"
   ]
  },
  {
   "cell_type": "markdown",
   "metadata": {},
   "source": [
    "> Nota: Caso a senha seja considerada muito simples você terá que clicar em **Done** duas vezes novamente."
   ]
  },
  {
   "cell_type": "markdown",
   "metadata": {},
   "source": [
    "---"
   ]
  },
  {
   "cell_type": "markdown",
   "metadata": {},
   "source": [
    "Com a instalação concluída clique em **Finish Configuration**. Nesse momento o SO vai configurar alguns arquivos de configuração e ao terminar clique na opção **Reboot**.\n",
    "\n",
    "<img src=\"resources/61.PNG\">"
   ]
  },
  {
   "cell_type": "markdown",
   "metadata": {},
   "source": [
    "Pronto! Agora temos o nosso CentOS instalado. É só partir para a diversão kkkkk.\n",
    "\n",
    "Calma, um SO cru desse jeito não tem muito serventia para nós. Vamos instalar camada a camada para adicionar mais recursos ao nosso SO.\n",
    "\n",
    "<img src=\"resources/62.PNG\">"
   ]
  },
  {
   "cell_type": "markdown",
   "metadata": {},
   "source": [
    "A primeira etapa é logar no sistema. Óbvio que você lembra o seu username e senha né. Não é o root, e sim o usuário padrão.\n",
    "\n",
    "<img src=\"resources/63.PNG\">"
   ]
  },
  {
   "cell_type": "markdown",
   "metadata": {},
   "source": [
    "Podemos mexer normalmente no nosso SO. Para quem não é habituado com Linux o comando `ls -la` exibe os diretórios e arquivos detalhados, vejamos:\n",
    "\n",
    "<img src=\"resources/64.PNG\">"
   ]
  },
  {
   "cell_type": "markdown",
   "metadata": {},
   "source": [
    "Veja que só temos alguns arquivos de configuração no nosso SO. Vamos continuar a instalação."
   ]
  },
  {
   "cell_type": "markdown",
   "metadata": {},
   "source": [
    "### Instalação da Interface Gráfica, Componentes e outros Utilitários"
   ]
  },
  {
   "cell_type": "markdown",
   "metadata": {},
   "source": [
    "Vamos começar verificando todos os grupos de pacotes disponíveis usando o comando `yum grouplist`. Como você pode ver na saída abaixo, precisamos basicamente instalar os grupos de pacotes **GNOME Desktop** e **Graphical Administration Tools**.\n",
    "\n",
    "<img src=\"resources/67.PNG\">"
   ]
  },
  {
   "cell_type": "markdown",
   "metadata": {},
   "source": [
    "Antes de instalar um novo pacote, é sempre uma boa ideia atualizar o Sistema com as últimas versões disponíveis usando o comando yum update conforme mostrado abaixo.\n",
    "\n",
    "> `sudo yum update`\n",
    "\n",
    "<img src=\"resources/68.PNG\">\n",
    "\n",
    "Neste momento será solicitado a confirmação. Digite `y`."
   ]
  },
  {
   "cell_type": "markdown",
   "metadata": {},
   "source": [
    "Para instalar os grupos de pacotes GNOME Desktop e Graphical Administration Tools, você precisa usar:\n",
    "> `sudo yum groupinstall \"GNOME Desktop\" \"Graphical Administration Tools\"`\n",
    "\n",
    "<img src=\"resources/69.PNG\">"
   ]
  },
  {
   "cell_type": "markdown",
   "metadata": {},
   "source": [
    "Após a instalação bem-sucedida do ambiente GNOME Desktop, você precisa habilitar e tornar o modo gráfico como padrão. Isso pode ser feito usando o comando gráfico:\n",
    "\n",
    "> `sudo systemctl set-default graphical`\n",
    "\n",
    "Caso você não queira ficar digitando sudo e a senha toda vez, logue como usuário root:\n",
    "\n",
    "> `su root` <br/>\n",
    "> Password: Digite sua senha de usuário root\n",
    "\n",
    "Agora o comando pode ser simplesmente assim:\n",
    "\n",
    "> `systemctl set-default graphical`\n",
    "\n",
    "<img src=\"resources/70.PNG\">"
   ]
  },
  {
   "cell_type": "markdown",
   "metadata": {},
   "source": [
    "Pronto! Agora é só reinciar que na próxima inicialização o sistema já terá a interface gráfica.\n",
    "\n",
    "> `reboot`"
   ]
  },
  {
   "cell_type": "markdown",
   "metadata": {},
   "source": [
    "<img src=\"resources/71.PNG\">"
   ]
  },
  {
   "cell_type": "markdown",
   "metadata": {},
   "source": [
    "### Importando e Exportando Versão\n",
    "\n",
    "Podemos desligar a VM por enquanto. \n",
    "\n",
    "No seu VirtualBox vá em Arquivo (F) e selecione a opção Exportar Appliance.\n",
    "\n",
    "<img src=\"resources/72.png\">\n",
    "\n",
    "Escolha o CentOS que você acabou de instalar e clique em próximo\n",
    "\n",
    "<img src=\"resources/73.png\">\n",
    "\n",
    "Deixa o Formato de Virtualização padrão Aberta 1.0.\n",
    "\n",
    "Na opção Arquivo (F) Navegue até o diretório que você deseja guardar o arquivo. É interessante criar um diretório chamado backup para que você consiga controlar as versões de backups das suas VMs.\n",
    "\n",
    "As outras opções você pode deixar como estão por padrão. Clique em próximo.\n",
    "\n",
    "<img src=\"resources/74.png\">\n",
    "\n",
    "É recomendado você detalhar na descrição sobre do que se trata essa versão do backup. Segue a imagem:\n",
    "\n",
    "<img src=\"resources/75.PNG\">\n",
    "\n",
    "\n",
    "\n"
   ]
  },
  {
   "cell_type": "markdown",
   "metadata": {},
   "source": [
    "Para finalizar clique em **Exportar**. Neste momento o VirtualBox vai começar a gravação do seu backup."
   ]
  },
  {
   "cell_type": "markdown",
   "metadata": {},
   "source": [
    "### Mais algumas configurações"
   ]
  },
  {
   "cell_type": "markdown",
   "metadata": {},
   "source": [
    "Vamos instalar o Gedit e o Firefox:\n",
    "\n",
    "> `sudo yum install gedit`<br/>\n",
    "> `sudo yum install firefox`<br/>"
   ]
  },
  {
   "cell_type": "markdown",
   "metadata": {},
   "source": [
    "Temos um editor de textos e um navegador."
   ]
  },
  {
   "cell_type": "markdown",
   "metadata": {},
   "source": [
    "Agora iremos conceder permissão de root para o usuário padrão. Primeiro faça login como usuário root e depois vá em editar o arquivo sudoers:\n",
    "\n",
    "> `su root` <br/>\n",
    "> `gedit /etc/sudoers` <br/>"
   ]
  },
  {
   "cell_type": "markdown",
   "metadata": {},
   "source": [
    "Navegue até o final do arquivo e adicione permissão para o seu usuário padrão, como na imagem:\n",
    "\n",
    "> Nota: Pressione `1 tab` para separar cada parâmetro. \n",
    "\n",
    "<img src=\"resources/76.png\">"
   ]
  },
  {
   "cell_type": "markdown",
   "metadata": {},
   "source": [
    "Salvar e Fechar arquivo. Agora você como usuário padrão pode fazer qualquer ação de um usuário root.\n",
    "\n",
    "> Nota: Faça isso somente se você não tiver problemas com segurança ou acesso. Em um ambiente corporativo você não deve conceder permissão root para qualquer usuário.<br/>\n",
    "Lembre-se: O usuário root pode fazer o que quiser no SO. Incluindo criar, ler, escrever e excluir qualquer arquivo ou diretório no SO.\n"
   ]
  },
  {
   "cell_type": "markdown",
   "metadata": {},
   "source": [
    "Finalizamos essa parte 3 do Tutorial. Espero que tenham gostado dessa série de postagens. Eu trouxe esses guias sobre Máquinas Virtuais, instalação do Ubuntu e a instalação do CentOS. porque futuramente irei mostrar como instalar e manipular o Hadoop.\n",
    "\n",
    "O Hadoop é o principal framework para lidar com computação distribuída, sendo o modelo ideal para trabalhar com o Big Data.\n",
    "\n",
    "E o Linux virtualizado é o ambiente perfeito para que possamos testar o Hadoop, simulando um cluster de computadores no nosso ambiente virtual. \n",
    "\n",
    "Até mais pessoal!"
   ]
  }
 ],
 "metadata": {
  "kernelspec": {
   "display_name": "Python 3.8.9 64-bit",
   "language": "python",
   "name": "python3"
  },
  "language_info": {
   "name": "python",
   "version": "3.8.9"
  },
  "orig_nbformat": 4,
  "vscode": {
   "interpreter": {
    "hash": "b081a66ee97bd2b6a16f43955f1d810b7ea816d6eaeb65e157ef9e038445f0c6"
   }
  }
 },
 "nbformat": 4,
 "nbformat_minor": 2
}
